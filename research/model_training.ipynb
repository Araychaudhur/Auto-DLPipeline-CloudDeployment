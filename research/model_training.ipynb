{
 "cells": [
  {
   "cell_type": "code",
   "execution_count": 1,
   "metadata": {},
   "outputs": [],
   "source": [
    "import os"
   ]
  },
  {
   "cell_type": "code",
   "execution_count": 2,
   "metadata": {},
   "outputs": [
    {
     "data": {
      "text/plain": [
       "'c:\\\\Projects\\\\Auto-DLPipeline-CloudDeployment\\\\research'"
      ]
     },
     "execution_count": 2,
     "metadata": {},
     "output_type": "execute_result"
    }
   ],
   "source": [
    "%pwd"
   ]
  },
  {
   "cell_type": "code",
   "execution_count": 3,
   "metadata": {},
   "outputs": [],
   "source": [
    "os.chdir(\"../\")"
   ]
  },
  {
   "cell_type": "code",
   "execution_count": 4,
   "metadata": {},
   "outputs": [
    {
     "data": {
      "text/plain": [
       "'c:\\\\Projects\\\\Auto-DLPipeline-CloudDeployment'"
      ]
     },
     "execution_count": 4,
     "metadata": {},
     "output_type": "execute_result"
    }
   ],
   "source": [
    "%pwd"
   ]
  },
  {
   "cell_type": "code",
   "execution_count": 5,
   "metadata": {},
   "outputs": [],
   "source": [
    "from dataclasses import dataclass\n",
    "from pathlib import Path"
   ]
  },
  {
   "cell_type": "code",
   "execution_count": 6,
   "metadata": {},
   "outputs": [],
   "source": [
    "@dataclass(frozen=True)\n",
    "class TrainingConfig:\n",
    "    root_dir: Path\n",
    "    trained_model_path: Path\n",
    "    updated_base_model_path: Path\n",
    "    training_data: Path\n",
    "    params_epochs:int\n",
    "    params_batch_size: int\n",
    "    params_is_augmentation: bool\n",
    "    params_image_size: list\n",
    "\n",
    "@dataclass(frozen=True)\n",
    "class PrepareCallbacksconfig:\n",
    "    root_dir:Path\n",
    "    tensorboard_root_log_dir: Path\n",
    "    checkpoint_model_filepath: Path"
   ]
  },
  {
   "cell_type": "code",
   "execution_count": 7,
   "metadata": {},
   "outputs": [],
   "source": [
    "from cnnClassifier.constants import *\n",
    "from cnnClassifier.utils.common import read_yaml, create_directories\n",
    "import tensorflow as tf"
   ]
  },
  {
   "cell_type": "code",
   "execution_count": 8,
   "metadata": {},
   "outputs": [],
   "source": [
    "class ConfigurationManager:\n",
    "    def __init__(\n",
    "        self,\n",
    "        config_filepath = CONFIG_FILE_PATH,\n",
    "        params_filepath = PARAMS_FILE_PATH):\n",
    "        self.config = read_yaml(config_filepath)\n",
    "        self.params = read_yaml(params_filepath)\n",
    "        create_directories([self.config.artifacts_root])\n",
    "\n",
    "    def get_prepare_callback_config(self) -> PrepareCallbacksconfig:\n",
    "        config = self.config.prepare_callbacks\n",
    "        model_ckpt_dir = os.path.dirname(config.checkpoint_model_filepath)\n",
    "        create_directories([\n",
    "            Path(model_ckpt_dir),\n",
    "            Path(config.tensorboard_root_log_dir)\n",
    "        ])\n",
    "\n",
    "        prepare_callback_config = PrepareCallbacksconfig(\n",
    "            root_dir=Path(config.root_dir),\n",
    "            tensorboard_root_log_dir=Path(config.tensorboard_root_log_dir),\n",
    "            checkpoint_model_filepath=Path(config.checkpoint_model_filepath)\n",
    "        )\n",
    "\n",
    "        return prepare_callback_config    \n",
    "    \n",
    "\n",
    "    def get_training_config(self)->TrainingConfig:\n",
    "        training = self.config.training\n",
    "        prepare_base_model = self.config.prepare_base_model\n",
    "        params = self.params\n",
    "        training_data = os.path.join(self.config.data_ingestion.unzip_dir, \"Chicken-fecal-images\")\n",
    "        create_directories([\n",
    "            Path(training.root_dir)\n",
    "        ])\n",
    "\n",
    "        training_config = TrainingConfig(\n",
    "            root_dir=Path(training.root_dir),\n",
    "            trained_model_path=Path(training.trained_model_path),\n",
    "            updated_base_model_path=Path(prepare_base_model.updated_base_model_path),\n",
    "            training_data=Path(training_data),\n",
    "            params_epochs=params.EPOCHS,\n",
    "            params_batch_size=params.BATCH_SIZE,\n",
    "            params_is_augmentation=params.AUGMENTATION,\n",
    "            params_image_size=params.IMAGE_SIZE\n",
    "        )\n",
    "\n",
    "        return training_config\n"
   ]
  },
  {
   "cell_type": "code",
   "execution_count": 9,
   "metadata": {},
   "outputs": [],
   "source": [
    "import time"
   ]
  },
  {
   "cell_type": "code",
   "execution_count": 10,
   "metadata": {},
   "outputs": [],
   "source": [
    "class PrepareCallbacks:\n",
    "    def __init__(self, config: PrepareCallbacksconfig):\n",
    "        self.config = config\n",
    "    \n",
    "    @property    \n",
    "    def _create_tb_callbacks(self):\n",
    "        timestamp = time.strftime(\"%Y-%m-%d-%H-%M-%S\")\n",
    "        tb_runtime_log_dir = os.path.join(\n",
    "            self.config.tensorboard_root_log_dir,\n",
    "            f\"tb_logs_at_{timestamp}\",  \n",
    "        )\n",
    "        return tf.keras.callbacks.TensorBoard(log_dir = tb_runtime_log_dir)\n",
    "    \n",
    "    @property\n",
    "    def _create_ckpt_callbacks(self):\n",
    "        return tf.keras.callbacks.ModelCheckpoint(\n",
    "            filepath=str(self.config.checkpoint_model_filepath),\n",
    "            save_best_only=True\n",
    "        )\n",
    "    \n",
    "    def get_tb_ckpt_callbacks(self):\n",
    "        return[\n",
    "            self._create_tb_callbacks,\n",
    "            self._create_ckpt_callbacks\n",
    "        ]"
   ]
  },
  {
   "cell_type": "code",
   "execution_count": 11,
   "metadata": {},
   "outputs": [],
   "source": [
    "import os\n",
    "import urllib.request as request\n",
    "from zipfile import ZipFile\n",
    "import tensorflow as tf\n",
    "import time\n"
   ]
  },
  {
   "cell_type": "code",
   "execution_count": 12,
   "metadata": {},
   "outputs": [],
   "source": [
    "class Training:\n",
    "    def __init__(self, config: TrainingConfig):\n",
    "        self.config = config\n",
    "    \n",
    "    def get_base_model(self):\n",
    "        self.model = tf.keras.models.load_model(\n",
    "            self.config.updated_base_model_path\n",
    "        )\n",
    "    \n",
    "    def train_valid_generator(self):\n",
    "\n",
    "        datagenerator_kwargs = dict(\n",
    "            rescale = 1./255,\n",
    "            validation_split = 0.20\n",
    "        )\n",
    "\n",
    "        dataflow_kwargs = dict(\n",
    "            target_size=self.config.params_image_size[:-1],\n",
    "            batch_size = self.config.params_batch_size,\n",
    "            interpolation = \"bilinear\"\n",
    "        )\n",
    "\n",
    "        valid_datagenerator = tf.keras.preprocessing.image.ImageDataGenerator(\n",
    "            **datagenerator_kwargs\n",
    "        )\n",
    "\n",
    "        self.valid_generator = valid_datagenerator.flow_from_directory(\n",
    "            directory=self.config.training_data,\n",
    "            subset = \"validation\",\n",
    "            shuffle = False,\n",
    "            **dataflow_kwargs\n",
    "        )\n",
    "        \n",
    "        if self.config.params_is_augmentation:\n",
    "            train_datagenerator = tf.keras.preprocessing.image.ImageDataGenerator(\n",
    "                rotation_range=40,\n",
    "                horizontal_flip=True,\n",
    "                width_shift_range=0.2,\n",
    "                height_shift_range=0.2,\n",
    "                shear_range=0.2,\n",
    "                zoom_range=0.2,\n",
    "                **datagenerator_kwargs\n",
    "            )\n",
    "        else:\n",
    "            train_datagenerator = valid_datagenerator\n",
    "\n",
    "        self.train_generator = train_datagenerator.flow_from_directory(\n",
    "            directory=self.config.training_data,\n",
    "            subset=\"training\",\n",
    "            shuffle=True,\n",
    "            **dataflow_kwargs\n",
    "        )\n",
    "\n",
    "    @staticmethod\n",
    "    def save_model(path: Path, model: tf.keras.Model):\n",
    "        model.save(path)\n",
    "\n",
    "\n",
    "    def train(self, callback_list: list):\n",
    "        self.steps_per_epoch = self.train_generator.samples // self.train_generator.batch_size\n",
    "        self.validation_steps = self.valid_generator.samples // self.valid_generator.batch_size\n",
    "\n",
    "        self.model.fit(\n",
    "            self.train_generator,\n",
    "            epochs=self.config.params_epochs,\n",
    "            steps_per_epoch=self.steps_per_epoch,\n",
    "            validation_steps=self.validation_steps,\n",
    "            validation_data=self.valid_generator,\n",
    "            callbacks=callback_list\n",
    "        )\n",
    "\n",
    "        self.save_model(\n",
    "            path=self.config.trained_model_path,\n",
    "            model=self.model\n",
    "        )"
   ]
  },
  {
   "cell_type": "code",
   "execution_count": 13,
   "metadata": {},
   "outputs": [
    {
     "name": "stdout",
     "output_type": "stream",
     "text": [
      "[2025-02-24 21:05:55,263: INFO: common: yaml file: config\\config.yaml loaded successfully]\n",
      "[2025-02-24 21:05:55,266: INFO: common: yaml file: params.yaml loaded successfully]\n",
      "[2025-02-24 21:05:55,268: INFO: common: created directory at: artifacts]\n",
      "[2025-02-24 21:05:55,269: INFO: common: created directory at: artifacts\\prepare_callbacks\\checkpoint_dir]\n",
      "[2025-02-24 21:05:55,270: INFO: common: created directory at: artifacts\\prepare_callbacks\\tensorboard_log_dir]\n",
      "[2025-02-24 21:05:55,274: INFO: common: created directory at: artifacts\\training]\n",
      "Found 78 images belonging to 2 classes.\n",
      "Found 312 images belonging to 2 classes.\n",
      "Epoch 1/50\n",
      "19/19 [==============================] - 25s 1s/step - loss: 13.7778 - accuracy: 0.5068 - val_loss: 11.3121 - val_accuracy: 0.3906\n",
      "Epoch 2/50\n"
     ]
    },
    {
     "name": "stderr",
     "output_type": "stream",
     "text": [
      "c:\\Projects\\Auto-DLPipeline-CloudDeployment\\venv\\lib\\site-packages\\keras\\src\\engine\\training.py:3000: UserWarning: You are saving your model as an HDF5 file via `model.save()`. This file format is considered legacy. We recommend using instead the native Keras format, e.g. `model.save('my_model.keras')`.\n",
      "  saving_api.save_model(\n"
     ]
    },
    {
     "name": "stdout",
     "output_type": "stream",
     "text": [
      "19/19 [==============================] - 22s 1s/step - loss: 7.0067 - accuracy: 0.6655 - val_loss: 1.5695 - val_accuracy: 0.8281\n",
      "Epoch 3/50\n",
      "19/19 [==============================] - 22s 1s/step - loss: 4.2335 - accuracy: 0.7331 - val_loss: 11.6014 - val_accuracy: 0.4062\n",
      "Epoch 4/50\n",
      "19/19 [==============================] - 23s 1s/step - loss: 3.7548 - accuracy: 0.7568 - val_loss: 4.7829 - val_accuracy: 0.6562\n",
      "Epoch 5/50\n",
      "19/19 [==============================] - 23s 1s/step - loss: 2.4403 - accuracy: 0.7905 - val_loss: 1.0395 - val_accuracy: 0.9062\n",
      "Epoch 6/50\n",
      "19/19 [==============================] - 23s 1s/step - loss: 0.6490 - accuracy: 0.9291 - val_loss: 0.9118 - val_accuracy: 0.9062\n",
      "Epoch 7/50\n",
      "19/19 [==============================] - 23s 1s/step - loss: 0.5949 - accuracy: 0.9223 - val_loss: 1.0412 - val_accuracy: 0.9062\n",
      "Epoch 8/50\n",
      "19/19 [==============================] - 24s 1s/step - loss: 1.6262 - accuracy: 0.8649 - val_loss: 1.0462 - val_accuracy: 0.9062\n",
      "Epoch 9/50\n",
      "19/19 [==============================] - 24s 1s/step - loss: 0.4690 - accuracy: 0.9291 - val_loss: 0.7597 - val_accuracy: 0.9062\n",
      "Epoch 10/50\n",
      "19/19 [==============================] - 25s 1s/step - loss: 0.4526 - accuracy: 0.9155 - val_loss: 0.8960 - val_accuracy: 0.8906\n",
      "Epoch 11/50\n",
      "19/19 [==============================] - 25s 1s/step - loss: 1.3730 - accuracy: 0.8446 - val_loss: 0.7972 - val_accuracy: 0.9219\n",
      "Epoch 12/50\n",
      "19/19 [==============================] - 25s 1s/step - loss: 0.3041 - accuracy: 0.9257 - val_loss: 4.2310 - val_accuracy: 0.7031\n",
      "Epoch 13/50\n",
      "19/19 [==============================] - 25s 1s/step - loss: 0.7010 - accuracy: 0.9189 - val_loss: 1.7401 - val_accuracy: 0.8594\n",
      "Epoch 14/50\n",
      "19/19 [==============================] - 25s 1s/step - loss: 0.4169 - accuracy: 0.9257 - val_loss: 0.6905 - val_accuracy: 0.9375\n",
      "Epoch 15/50\n",
      "19/19 [==============================] - 25s 1s/step - loss: 0.8126 - accuracy: 0.8885 - val_loss: 1.4263 - val_accuracy: 0.8594\n",
      "Epoch 16/50\n",
      "19/19 [==============================] - 25s 1s/step - loss: 0.3400 - accuracy: 0.9358 - val_loss: 0.9125 - val_accuracy: 0.9062\n",
      "Epoch 17/50\n",
      "19/19 [==============================] - 26s 1s/step - loss: 0.1994 - accuracy: 0.9696 - val_loss: 0.9631 - val_accuracy: 0.9062\n",
      "Epoch 18/50\n",
      "19/19 [==============================] - 32s 2s/step - loss: 1.0099 - accuracy: 0.8716 - val_loss: 0.6924 - val_accuracy: 0.9531\n",
      "Epoch 19/50\n",
      "19/19 [==============================] - 30s 2s/step - loss: 0.3087 - accuracy: 0.9426 - val_loss: 1.4472 - val_accuracy: 0.8594\n",
      "Epoch 20/50\n",
      "19/19 [==============================] - 31s 2s/step - loss: 0.5216 - accuracy: 0.9324 - val_loss: 0.6871 - val_accuracy: 0.9375\n",
      "Epoch 21/50\n",
      "19/19 [==============================] - 31s 2s/step - loss: 0.3290 - accuracy: 0.9426 - val_loss: 0.6798 - val_accuracy: 0.9219\n",
      "Epoch 22/50\n",
      "19/19 [==============================] - 30s 2s/step - loss: 0.3507 - accuracy: 0.9459 - val_loss: 1.0894 - val_accuracy: 0.9062\n",
      "Epoch 23/50\n",
      "19/19 [==============================] - 30s 2s/step - loss: 0.7186 - accuracy: 0.9155 - val_loss: 0.6755 - val_accuracy: 0.9531\n",
      "Epoch 24/50\n",
      "19/19 [==============================] - 30s 2s/step - loss: 0.5127 - accuracy: 0.9324 - val_loss: 0.6620 - val_accuracy: 0.9219\n",
      "Epoch 25/50\n",
      "19/19 [==============================] - 33s 2s/step - loss: 0.7466 - accuracy: 0.9088 - val_loss: 0.6882 - val_accuracy: 0.9531\n",
      "Epoch 26/50\n",
      "19/19 [==============================] - 33s 2s/step - loss: 0.5981 - accuracy: 0.9291 - val_loss: 0.6629 - val_accuracy: 0.9375\n",
      "Epoch 27/50\n",
      "19/19 [==============================] - 33s 2s/step - loss: 0.2300 - accuracy: 0.9595 - val_loss: 1.0514 - val_accuracy: 0.9062\n",
      "Epoch 28/50\n",
      "19/19 [==============================] - 34s 2s/step - loss: 0.4485 - accuracy: 0.9426 - val_loss: 0.6620 - val_accuracy: 0.9375\n",
      "Epoch 29/50\n",
      "19/19 [==============================] - 33s 2s/step - loss: 0.2250 - accuracy: 0.9561 - val_loss: 0.7246 - val_accuracy: 0.9375\n",
      "Epoch 30/50\n",
      "19/19 [==============================] - 32s 2s/step - loss: 1.5863 - accuracy: 0.8514 - val_loss: 1.0594 - val_accuracy: 0.8906\n",
      "Epoch 31/50\n",
      "19/19 [==============================] - 32s 2s/step - loss: 0.2749 - accuracy: 0.9324 - val_loss: 1.1502 - val_accuracy: 0.8906\n",
      "Epoch 32/50\n",
      "19/19 [==============================] - 32s 2s/step - loss: 0.7828 - accuracy: 0.9020 - val_loss: 0.7122 - val_accuracy: 0.9375\n",
      "Epoch 33/50\n",
      "19/19 [==============================] - 32s 2s/step - loss: 0.1474 - accuracy: 0.9764 - val_loss: 0.9461 - val_accuracy: 0.9062\n",
      "Epoch 34/50\n",
      "19/19 [==============================] - 32s 2s/step - loss: 0.2211 - accuracy: 0.9426 - val_loss: 0.7281 - val_accuracy: 0.9375\n",
      "Epoch 35/50\n",
      "19/19 [==============================] - 33s 2s/step - loss: 0.2816 - accuracy: 0.9527 - val_loss: 0.7587 - val_accuracy: 0.9375\n",
      "Epoch 36/50\n",
      "19/19 [==============================] - 31s 2s/step - loss: 0.3194 - accuracy: 0.9459 - val_loss: 0.6658 - val_accuracy: 0.9375\n",
      "Epoch 37/50\n",
      "19/19 [==============================] - 33s 2s/step - loss: 0.4015 - accuracy: 0.9493 - val_loss: 0.6710 - val_accuracy: 0.9375\n",
      "Epoch 38/50\n",
      "19/19 [==============================] - 34s 2s/step - loss: 0.1807 - accuracy: 0.9572 - val_loss: 0.6821 - val_accuracy: 0.9531\n",
      "Epoch 39/50\n",
      "19/19 [==============================] - 32s 2s/step - loss: 0.2306 - accuracy: 0.9628 - val_loss: 1.0563 - val_accuracy: 0.8906\n",
      "Epoch 40/50\n",
      "19/19 [==============================] - 31s 2s/step - loss: 0.3728 - accuracy: 0.9426 - val_loss: 0.7125 - val_accuracy: 0.9375\n",
      "Epoch 41/50\n",
      "19/19 [==============================] - 30s 2s/step - loss: 0.2793 - accuracy: 0.9392 - val_loss: 1.3523 - val_accuracy: 0.8906\n",
      "Epoch 42/50\n",
      "19/19 [==============================] - 31s 2s/step - loss: 0.5463 - accuracy: 0.9054 - val_loss: 1.0955 - val_accuracy: 0.9062\n",
      "Epoch 43/50\n",
      "19/19 [==============================] - 31s 2s/step - loss: 0.3106 - accuracy: 0.9507 - val_loss: 0.6891 - val_accuracy: 0.9531\n",
      "Epoch 44/50\n",
      "19/19 [==============================] - 30s 2s/step - loss: 0.1883 - accuracy: 0.9696 - val_loss: 0.6594 - val_accuracy: 0.9375\n",
      "Epoch 45/50\n",
      "19/19 [==============================] - 30s 2s/step - loss: 0.3452 - accuracy: 0.9459 - val_loss: 0.6635 - val_accuracy: 0.9531\n",
      "Epoch 46/50\n",
      "19/19 [==============================] - 32s 2s/step - loss: 0.1857 - accuracy: 0.9595 - val_loss: 0.8282 - val_accuracy: 0.9062\n",
      "Epoch 47/50\n",
      "19/19 [==============================] - 30s 2s/step - loss: 0.5716 - accuracy: 0.9257 - val_loss: 1.2419 - val_accuracy: 0.9062\n",
      "Epoch 48/50\n",
      "19/19 [==============================] - 31s 2s/step - loss: 0.1870 - accuracy: 0.9662 - val_loss: 0.6562 - val_accuracy: 0.9531\n",
      "Epoch 49/50\n",
      "19/19 [==============================] - 30s 2s/step - loss: 0.4006 - accuracy: 0.9493 - val_loss: 3.0880 - val_accuracy: 0.7188\n",
      "Epoch 50/50\n",
      "19/19 [==============================] - 31s 2s/step - loss: 0.3441 - accuracy: 0.9493 - val_loss: 0.7916 - val_accuracy: 0.9062\n"
     ]
    }
   ],
   "source": [
    "try:\n",
    "    config = ConfigurationManager()\n",
    "    prepare_callbacks_config = config.get_prepare_callback_config()\n",
    "    prepare_callbacks = PrepareCallbacks(config=prepare_callbacks_config)\n",
    "    callback_list=prepare_callbacks.get_tb_ckpt_callbacks()\n",
    "\n",
    "    training_config = config.get_training_config()\n",
    "    training = Training(config = training_config)\n",
    "    training.get_base_model()\n",
    "    training.train_valid_generator()\n",
    "    training.train(\n",
    "        callback_list=callback_list\n",
    "    )\n",
    "\n",
    "except Exception as e:\n",
    "    raise e"
   ]
  }
 ],
 "metadata": {
  "kernelspec": {
   "display_name": "Python 3",
   "language": "python",
   "name": "python3"
  },
  "language_info": {
   "codemirror_mode": {
    "name": "ipython",
    "version": 3
   },
   "file_extension": ".py",
   "mimetype": "text/x-python",
   "name": "python",
   "nbconvert_exporter": "python",
   "pygments_lexer": "ipython3",
   "version": "3.8.20"
  }
 },
 "nbformat": 4,
 "nbformat_minor": 2
}
